{
 "cells": [
  {
   "cell_type": "code",
   "execution_count": 1,
   "id": "95d89691-0d2d-40c2-af9d-0e99a7da9a78",
   "metadata": {},
   "outputs": [],
   "source": [
    "import pandas as pd \n",
    "import numpy as np \n",
    "import datetime as dt"
   ]
  },
  {
   "cell_type": "code",
   "execution_count": 4,
   "id": "4f23a60c-25fd-42ee-9e34-3c0c0f19f781",
   "metadata": {},
   "outputs": [
    {
     "data": {
      "text/html": [
       "<div>\n",
       "<style scoped>\n",
       "    .dataframe tbody tr th:only-of-type {\n",
       "        vertical-align: middle;\n",
       "    }\n",
       "\n",
       "    .dataframe tbody tr th {\n",
       "        vertical-align: top;\n",
       "    }\n",
       "\n",
       "    .dataframe thead th {\n",
       "        text-align: right;\n",
       "    }\n",
       "</style>\n",
       "<table border=\"1\" class=\"dataframe\">\n",
       "  <thead>\n",
       "    <tr style=\"text-align: right;\">\n",
       "      <th></th>\n",
       "      <th>Date</th>\n",
       "      <th>ssn</th>\n",
       "      <th>smoothed_ssn</th>\n",
       "      <th>observed_swpc_ssn</th>\n",
       "      <th>smoothed_swpc_ssn</th>\n",
       "      <th>f10.7</th>\n",
       "      <th>smoothed_f10.7</th>\n",
       "    </tr>\n",
       "  </thead>\n",
       "  <tbody>\n",
       "    <tr>\n",
       "      <th>0</th>\n",
       "      <td>1749-01-01</td>\n",
       "      <td>96.7</td>\n",
       "      <td>-1.0</td>\n",
       "      <td>-1.0</td>\n",
       "      <td>-1.0</td>\n",
       "      <td>-1.0</td>\n",
       "      <td>-1.0</td>\n",
       "    </tr>\n",
       "    <tr>\n",
       "      <th>1</th>\n",
       "      <td>1749-02-01</td>\n",
       "      <td>104.3</td>\n",
       "      <td>-1.0</td>\n",
       "      <td>-1.0</td>\n",
       "      <td>-1.0</td>\n",
       "      <td>-1.0</td>\n",
       "      <td>-1.0</td>\n",
       "    </tr>\n",
       "    <tr>\n",
       "      <th>2</th>\n",
       "      <td>1749-03-01</td>\n",
       "      <td>116.7</td>\n",
       "      <td>-1.0</td>\n",
       "      <td>-1.0</td>\n",
       "      <td>-1.0</td>\n",
       "      <td>-1.0</td>\n",
       "      <td>-1.0</td>\n",
       "    </tr>\n",
       "    <tr>\n",
       "      <th>3</th>\n",
       "      <td>1749-04-01</td>\n",
       "      <td>92.8</td>\n",
       "      <td>-1.0</td>\n",
       "      <td>-1.0</td>\n",
       "      <td>-1.0</td>\n",
       "      <td>-1.0</td>\n",
       "      <td>-1.0</td>\n",
       "    </tr>\n",
       "    <tr>\n",
       "      <th>4</th>\n",
       "      <td>1749-05-01</td>\n",
       "      <td>141.7</td>\n",
       "      <td>-1.0</td>\n",
       "      <td>-1.0</td>\n",
       "      <td>-1.0</td>\n",
       "      <td>-1.0</td>\n",
       "      <td>-1.0</td>\n",
       "    </tr>\n",
       "  </tbody>\n",
       "</table>\n",
       "</div>"
      ],
      "text/plain": [
       "         Date    ssn  smoothed_ssn  observed_swpc_ssn  smoothed_swpc_ssn  \\\n",
       "0  1749-01-01   96.7          -1.0               -1.0               -1.0   \n",
       "1  1749-02-01  104.3          -1.0               -1.0               -1.0   \n",
       "2  1749-03-01  116.7          -1.0               -1.0               -1.0   \n",
       "3  1749-04-01   92.8          -1.0               -1.0               -1.0   \n",
       "4  1749-05-01  141.7          -1.0               -1.0               -1.0   \n",
       "\n",
       "   f10.7  smoothed_f10.7  \n",
       "0   -1.0            -1.0  \n",
       "1   -1.0            -1.0  \n",
       "2   -1.0            -1.0  \n",
       "3   -1.0            -1.0  \n",
       "4   -1.0            -1.0  "
      ]
     },
     "execution_count": 4,
     "metadata": {},
     "output_type": "execute_result"
    }
   ],
   "source": [
    "solar_cycle = pd.read_csv('data/solar_cycle.csv', parse_dates =True)\n",
    "solar_cycle = solar_cycle.rename({'time-tag':'Date'}, axis = 1)\n",
    "solar_cycle.head()"
   ]
  },
  {
   "cell_type": "code",
   "execution_count": 5,
   "id": "33adc269-755b-4b31-9ef8-e765e5c5c881",
   "metadata": {},
   "outputs": [],
   "source": [
    "lod = [x for x in solar_cycle['Date']]\n",
    "lenoflis = [len(x) for x in lod]"
   ]
  },
  {
   "cell_type": "code",
   "execution_count": 6,
   "id": "3d44daf4-ce9d-4617-90ad-4e7fa10ef0c4",
   "metadata": {},
   "outputs": [
    {
     "data": {
      "text/plain": [
       "array([10])"
      ]
     },
     "execution_count": 6,
     "metadata": {},
     "output_type": "execute_result"
    }
   ],
   "source": [
    "np.unique(np.array(lenoflis))"
   ]
  },
  {
   "cell_type": "code",
   "execution_count": 7,
   "id": "e6b92296-db16-46da-b866-a39cbd870862",
   "metadata": {},
   "outputs": [
    {
     "data": {
      "text/plain": [
       "10    3282\n",
       "dtype: int64"
      ]
     },
     "execution_count": 7,
     "metadata": {},
     "output_type": "execute_result"
    }
   ],
   "source": [
    "pd.Series(lenoflis).value_counts()"
   ]
  },
  {
   "cell_type": "code",
   "execution_count": 8,
   "id": "c7cb438b-8f9a-4b07-acd4-7fbbaf4ad683",
   "metadata": {},
   "outputs": [
    {
     "name": "stdout",
     "output_type": "stream",
     "text": [
      "['1749-01-01', '1749-02-01', '1749-03-01', '1749-04-01', '1749-05-01'] \n",
      "\n"
     ]
    }
   ],
   "source": [
    "for j in list(np.unique(np.array(lenoflis))): \n",
    "    print([x for x in lod if len(x) == j][:5],'\\n')"
   ]
  },
  {
   "cell_type": "code",
   "execution_count": 9,
   "id": "f53a403b-7616-48dc-a9c5-3636709d2949",
   "metadata": {},
   "outputs": [],
   "source": [
    "solar_cycle.Date = pd.to_datetime(solar_cycle.Date)"
   ]
  },
  {
   "cell_type": "code",
   "execution_count": 10,
   "id": "e5a5e65f-4559-434e-8894-5870eaf709d9",
   "metadata": {},
   "outputs": [
    {
     "data": {
      "text/plain": [
       "1749-01-01    1\n",
       "1931-09-01    1\n",
       "1930-11-01    1\n",
       "1930-12-01    1\n",
       "1931-01-01    1\n",
       "             ..\n",
       "1840-05-01    1\n",
       "1840-06-01    1\n",
       "1840-07-01    1\n",
       "1840-08-01    1\n",
       "2022-06-01    1\n",
       "Name: Date, Length: 3282, dtype: int64"
      ]
     },
     "execution_count": 10,
     "metadata": {},
     "output_type": "execute_result"
    }
   ],
   "source": [
    "solar_cycle.Date.value_counts()"
   ]
  },
  {
   "cell_type": "code",
   "execution_count": 11,
   "id": "84b8d7b2-693a-4600-93bf-4ca426ebfbf6",
   "metadata": {},
   "outputs": [],
   "source": [
    "#solar_cycle.to_csv('data/solar_cycle_1.csv')"
   ]
  },
  {
   "cell_type": "code",
   "execution_count": null,
   "id": "21ed3562-e98b-4158-866a-f4cc355b2acd",
   "metadata": {},
   "outputs": [],
   "source": []
  },
  {
   "cell_type": "code",
   "execution_count": null,
   "id": "ce9ecd9d-8b6f-4c99-b1fc-b2d9a6f13451",
   "metadata": {},
   "outputs": [],
   "source": []
  }
 ],
 "metadata": {
  "kernelspec": {
   "display_name": "Python 3.9.7 ('dsenv')",
   "language": "python",
   "name": "python3"
  },
  "language_info": {
   "codemirror_mode": {
    "name": "ipython",
    "version": 3
   },
   "file_extension": ".py",
   "mimetype": "text/x-python",
   "name": "python",
   "nbconvert_exporter": "python",
   "pygments_lexer": "ipython3",
   "version": "3.9.7"
  },
  "vscode": {
   "interpreter": {
    "hash": "ee8f712fe58a2a1e8e7343d3189c469d59f4822b637ab3b767b226c4ae987255"
   }
  }
 },
 "nbformat": 4,
 "nbformat_minor": 5
}
